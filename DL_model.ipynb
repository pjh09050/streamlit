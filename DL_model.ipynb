{
 "cells": [
  {
   "cell_type": "code",
   "execution_count": null,
   "id": "7b8f89bc",
   "metadata": {},
   "outputs": [],
   "source": [
    "import tensorflow as tf\n",
    "import tensorflow.keras as keras\n",
    "from tensorflow.keras.models import *\n",
    "from tensorflow.keras.layers import *\n",
    "\n",
    "def dnn(input_shape):\n",
    "    model_input = Input(shape=(input_shape,))\n",
    "    m = Dense(128, activation='relu')(model_input)\n",
    "    m = Dense(64, activation='relu')(m)\n",
    "    m = Dropout(0.3)(m)\n",
    "    m = Dense(32, activation='relu')(m)\n",
    "    model_output = Dense(1, activation='sigmoid')(m)\n",
    "    \n",
    "    model = Model(model_input, model_output)\n",
    "\n",
    "    model.model_name = \"DNN\"\n",
    "    \n",
    "    return model"
   ]
  }
 ],
 "metadata": {
  "kernelspec": {
   "display_name": "univ_project",
   "language": "python",
   "name": "univ"
  },
  "language_info": {
   "codemirror_mode": {
    "name": "ipython",
    "version": 3
   },
   "file_extension": ".py",
   "mimetype": "text/x-python",
   "name": "python",
   "nbconvert_exporter": "python",
   "pygments_lexer": "ipython3",
   "version": "3.10.0"
  }
 },
 "nbformat": 4,
 "nbformat_minor": 5
}
